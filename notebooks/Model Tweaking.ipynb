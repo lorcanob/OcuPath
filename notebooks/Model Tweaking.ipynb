{
 "cells": [
  {
   "cell_type": "code",
   "execution_count": 1,
   "id": "f532ea2f",
   "metadata": {},
   "outputs": [],
   "source": [
    "%load_ext autoreload\n",
    "%autoreload 2"
   ]
  },
  {
   "cell_type": "code",
   "execution_count": 2,
   "id": "115e5eb5",
   "metadata": {},
   "outputs": [
    {
     "name": "stdout",
     "output_type": "stream",
     "text": [
      "Obtaining file:///Users/lorcan/code/lorcanob/OcuPath\n",
      "  Preparing metadata (setup.py) ... \u001b[?25ldone\n",
      "\u001b[?25hRequirement already satisfied: pip>=9 in /Users/lorcan/.pyenv/versions/3.8.12/envs/lewagon/lib/python3.8/site-packages (from OcuPath==1.0) (21.3.1)\n",
      "Requirement already satisfied: setuptools>=26 in /Users/lorcan/.pyenv/versions/3.8.12/envs/lewagon/lib/python3.8/site-packages (from OcuPath==1.0) (56.0.0)\n",
      "Requirement already satisfied: twine in /Users/lorcan/.pyenv/versions/3.8.12/envs/lewagon/lib/python3.8/site-packages (from OcuPath==1.0) (3.7.1)\n",
      "Requirement already satisfied: wheel>=0.29 in /Users/lorcan/.pyenv/versions/3.8.12/envs/lewagon/lib/python3.8/site-packages (from OcuPath==1.0) (0.37.0)\n",
      "Requirement already satisfied: numpy in /Users/lorcan/.pyenv/versions/3.8.12/envs/lewagon/lib/python3.8/site-packages (from OcuPath==1.0) (1.19.5)\n",
      "Requirement already satisfied: pandas in /Users/lorcan/.pyenv/versions/3.8.12/envs/lewagon/lib/python3.8/site-packages (from OcuPath==1.0) (1.3.4)\n",
      "Requirement already satisfied: scikit-learn in /Users/lorcan/.pyenv/versions/3.8.12/envs/lewagon/lib/python3.8/site-packages (from OcuPath==1.0) (0.24.2)\n",
      "Requirement already satisfied: keras_preprocessing in /Users/lorcan/.pyenv/versions/3.8.12/envs/lewagon/lib/python3.8/site-packages (from OcuPath==1.0) (1.1.2)\n",
      "Requirement already satisfied: black in /Users/lorcan/.pyenv/versions/3.8.12/envs/lewagon/lib/python3.8/site-packages (from OcuPath==1.0) (21.12b0)\n",
      "Requirement already satisfied: coverage in /Users/lorcan/.pyenv/versions/3.8.12/envs/lewagon/lib/python3.8/site-packages (from OcuPath==1.0) (6.2)\n",
      "Requirement already satisfied: flake8 in /Users/lorcan/.pyenv/versions/3.8.12/envs/lewagon/lib/python3.8/site-packages (from OcuPath==1.0) (4.0.1)\n",
      "Requirement already satisfied: pytest in /Users/lorcan/.pyenv/versions/3.8.12/envs/lewagon/lib/python3.8/site-packages (from OcuPath==1.0) (6.2.5)\n",
      "Requirement already satisfied: yapf in /Users/lorcan/.pyenv/versions/3.8.12/envs/lewagon/lib/python3.8/site-packages (from OcuPath==1.0) (0.31.0)\n",
      "Requirement already satisfied: gcsfs in /Users/lorcan/.pyenv/versions/3.8.12/envs/lewagon/lib/python3.8/site-packages (from OcuPath==1.0) (2021.11.1)\n",
      "Requirement already satisfied: google-cloud-storage in /Users/lorcan/.pyenv/versions/3.8.12/envs/lewagon/lib/python3.8/site-packages (from OcuPath==1.0) (1.43.0)\n",
      "Requirement already satisfied: mlflow in /Users/lorcan/.pyenv/versions/3.8.12/envs/lewagon/lib/python3.8/site-packages (from OcuPath==1.0) (1.22.0)\n",
      "Requirement already satisfied: s3fs in /Users/lorcan/.pyenv/versions/3.8.12/envs/lewagon/lib/python3.8/site-packages (from OcuPath==1.0) (2021.11.1)\n",
      "Requirement already satisfied: six>=1.14 in /Users/lorcan/.pyenv/versions/3.8.12/envs/lewagon/lib/python3.8/site-packages (from OcuPath==1.0) (1.15.0)\n",
      "Requirement already satisfied: joblib in /Users/lorcan/.pyenv/versions/3.8.12/envs/lewagon/lib/python3.8/site-packages (from OcuPath==1.0) (1.0.1)\n",
      "Requirement already satisfied: memoized-property in /Users/lorcan/.pyenv/versions/3.8.12/envs/lewagon/lib/python3.8/site-packages (from OcuPath==1.0) (1.0.3)\n",
      "Requirement already satisfied: termcolor in /Users/lorcan/.pyenv/versions/3.8.12/envs/lewagon/lib/python3.8/site-packages (from OcuPath==1.0) (1.1.0)\n",
      "Requirement already satisfied: mypy-extensions>=0.4.3 in /Users/lorcan/.pyenv/versions/3.8.12/envs/lewagon/lib/python3.8/site-packages (from black->OcuPath==1.0) (0.4.3)\n",
      "Requirement already satisfied: platformdirs>=2 in /Users/lorcan/.pyenv/versions/3.8.12/envs/lewagon/lib/python3.8/site-packages (from black->OcuPath==1.0) (2.4.0)\n",
      "Requirement already satisfied: click>=7.1.2 in /Users/lorcan/.pyenv/versions/3.8.12/envs/lewagon/lib/python3.8/site-packages (from black->OcuPath==1.0) (7.1.2)\n",
      "Requirement already satisfied: typing-extensions>=3.10.0.0 in /Users/lorcan/.pyenv/versions/3.8.12/envs/lewagon/lib/python3.8/site-packages (from black->OcuPath==1.0) (4.0.1)\n",
      "Requirement already satisfied: pathspec<1,>=0.9.0 in /Users/lorcan/.pyenv/versions/3.8.12/envs/lewagon/lib/python3.8/site-packages (from black->OcuPath==1.0) (0.9.0)\n",
      "Requirement already satisfied: tomli<2.0.0,>=0.2.6 in /Users/lorcan/.pyenv/versions/3.8.12/envs/lewagon/lib/python3.8/site-packages (from black->OcuPath==1.0) (1.2.2)\n",
      "Requirement already satisfied: pycodestyle<2.9.0,>=2.8.0 in /Users/lorcan/.pyenv/versions/3.8.12/envs/lewagon/lib/python3.8/site-packages (from flake8->OcuPath==1.0) (2.8.0)\n",
      "Requirement already satisfied: mccabe<0.7.0,>=0.6.0 in /Users/lorcan/.pyenv/versions/3.8.12/envs/lewagon/lib/python3.8/site-packages (from flake8->OcuPath==1.0) (0.6.1)\n",
      "Requirement already satisfied: pyflakes<2.5.0,>=2.4.0 in /Users/lorcan/.pyenv/versions/3.8.12/envs/lewagon/lib/python3.8/site-packages (from flake8->OcuPath==1.0) (2.4.0)\n",
      "Requirement already satisfied: requests in /Users/lorcan/.pyenv/versions/3.8.12/envs/lewagon/lib/python3.8/site-packages (from gcsfs->OcuPath==1.0) (2.26.0)\n",
      "Requirement already satisfied: fsspec==2021.11.1 in /Users/lorcan/.pyenv/versions/3.8.12/envs/lewagon/lib/python3.8/site-packages (from gcsfs->OcuPath==1.0) (2021.11.1)\n",
      "Requirement already satisfied: google-auth>=1.2 in /Users/lorcan/.pyenv/versions/3.8.12/envs/lewagon/lib/python3.8/site-packages (from gcsfs->OcuPath==1.0) (2.3.3)\n",
      "Requirement already satisfied: google-auth-oauthlib in /Users/lorcan/.pyenv/versions/3.8.12/envs/lewagon/lib/python3.8/site-packages (from gcsfs->OcuPath==1.0) (0.4.6)\n",
      "Requirement already satisfied: aiohttp<4 in /Users/lorcan/.pyenv/versions/3.8.12/envs/lewagon/lib/python3.8/site-packages (from gcsfs->OcuPath==1.0) (3.8.1)\n",
      "Requirement already satisfied: decorator>4.1.2 in /Users/lorcan/.pyenv/versions/3.8.12/envs/lewagon/lib/python3.8/site-packages (from gcsfs->OcuPath==1.0) (5.1.0)\n",
      "Requirement already satisfied: google-cloud-core<3.0dev,>=1.6.0 in /Users/lorcan/.pyenv/versions/3.8.12/envs/lewagon/lib/python3.8/site-packages (from google-cloud-storage->OcuPath==1.0) (2.2.1)\n",
      "Requirement already satisfied: google-api-core<3.0dev,>=1.29.0 in /Users/lorcan/.pyenv/versions/3.8.12/envs/lewagon/lib/python3.8/site-packages (from google-cloud-storage->OcuPath==1.0) (2.3.0)\n",
      "Requirement already satisfied: protobuf in /Users/lorcan/.pyenv/versions/3.8.12/envs/lewagon/lib/python3.8/site-packages (from google-cloud-storage->OcuPath==1.0) (3.19.1)\n",
      "Requirement already satisfied: google-resumable-media<3.0dev,>=1.3.0 in /Users/lorcan/.pyenv/versions/3.8.12/envs/lewagon/lib/python3.8/site-packages (from google-cloud-storage->OcuPath==1.0) (2.1.0)\n",
      "Requirement already satisfied: querystring-parser in /Users/lorcan/.pyenv/versions/3.8.12/envs/lewagon/lib/python3.8/site-packages (from mlflow->OcuPath==1.0) (1.2.4)\n",
      "Requirement already satisfied: prometheus-flask-exporter in /Users/lorcan/.pyenv/versions/3.8.12/envs/lewagon/lib/python3.8/site-packages (from mlflow->OcuPath==1.0) (0.18.6)\n",
      "Requirement already satisfied: packaging in /Users/lorcan/.pyenv/versions/3.8.12/envs/lewagon/lib/python3.8/site-packages (from mlflow->OcuPath==1.0) (21.0)\n",
      "Requirement already satisfied: cloudpickle in /Users/lorcan/.pyenv/versions/3.8.12/envs/lewagon/lib/python3.8/site-packages (from mlflow->OcuPath==1.0) (2.0.0)\n",
      "Requirement already satisfied: pytz in /Users/lorcan/.pyenv/versions/3.8.12/envs/lewagon/lib/python3.8/site-packages (from mlflow->OcuPath==1.0) (2021.3)\n",
      "Requirement already satisfied: Flask in /Users/lorcan/.pyenv/versions/3.8.12/envs/lewagon/lib/python3.8/site-packages (from mlflow->OcuPath==1.0) (2.0.2)\n",
      "Requirement already satisfied: sqlparse>=0.3.1 in /Users/lorcan/.pyenv/versions/3.8.12/envs/lewagon/lib/python3.8/site-packages (from mlflow->OcuPath==1.0) (0.4.2)\n",
      "Requirement already satisfied: docker>=4.0.0 in /Users/lorcan/.pyenv/versions/3.8.12/envs/lewagon/lib/python3.8/site-packages (from mlflow->OcuPath==1.0) (5.0.3)\n",
      "Requirement already satisfied: importlib-metadata!=4.7.0,>=3.7.0 in /Users/lorcan/.pyenv/versions/3.8.12/envs/lewagon/lib/python3.8/site-packages (from mlflow->OcuPath==1.0) (4.8.2)\n",
      "Requirement already satisfied: databricks-cli>=0.8.7 in /Users/lorcan/.pyenv/versions/3.8.12/envs/lewagon/lib/python3.8/site-packages (from mlflow->OcuPath==1.0) (0.16.2)\n",
      "Requirement already satisfied: alembic<=1.4.1 in /Users/lorcan/.pyenv/versions/3.8.12/envs/lewagon/lib/python3.8/site-packages (from mlflow->OcuPath==1.0) (1.4.1)\n",
      "Requirement already satisfied: entrypoints in /Users/lorcan/.pyenv/versions/3.8.12/envs/lewagon/lib/python3.8/site-packages (from mlflow->OcuPath==1.0) (0.3)\n",
      "Requirement already satisfied: gunicorn in /Users/lorcan/.pyenv/versions/3.8.12/envs/lewagon/lib/python3.8/site-packages (from mlflow->OcuPath==1.0) (20.1.0)\n",
      "Requirement already satisfied: gitpython>=2.1.0 in /Users/lorcan/.pyenv/versions/3.8.12/envs/lewagon/lib/python3.8/site-packages (from mlflow->OcuPath==1.0) (3.1.24)\n",
      "Requirement already satisfied: pyyaml>=5.1 in /Users/lorcan/.pyenv/versions/3.8.12/envs/lewagon/lib/python3.8/site-packages (from mlflow->OcuPath==1.0) (6.0)\n",
      "Requirement already satisfied: sqlalchemy in /Users/lorcan/.pyenv/versions/3.8.12/envs/lewagon/lib/python3.8/site-packages (from mlflow->OcuPath==1.0) (1.4.28)\n",
      "Requirement already satisfied: python-dateutil>=2.7.3 in /Users/lorcan/.pyenv/versions/3.8.12/envs/lewagon/lib/python3.8/site-packages (from pandas->OcuPath==1.0) (2.8.2)\n",
      "Requirement already satisfied: pluggy<2.0,>=0.12 in /Users/lorcan/.pyenv/versions/3.8.12/envs/lewagon/lib/python3.8/site-packages (from pytest->OcuPath==1.0) (1.0.0)\n",
      "Requirement already satisfied: attrs>=19.2.0 in /Users/lorcan/.pyenv/versions/3.8.12/envs/lewagon/lib/python3.8/site-packages (from pytest->OcuPath==1.0) (21.2.0)\n",
      "Requirement already satisfied: py>=1.8.2 in /Users/lorcan/.pyenv/versions/3.8.12/envs/lewagon/lib/python3.8/site-packages (from pytest->OcuPath==1.0) (1.11.0)\n",
      "Requirement already satisfied: iniconfig in /Users/lorcan/.pyenv/versions/3.8.12/envs/lewagon/lib/python3.8/site-packages (from pytest->OcuPath==1.0) (1.1.1)\n",
      "Requirement already satisfied: toml in /Users/lorcan/.pyenv/versions/3.8.12/envs/lewagon/lib/python3.8/site-packages (from pytest->OcuPath==1.0) (0.10.2)\n",
      "Requirement already satisfied: aiobotocore~=2.0.1 in /Users/lorcan/.pyenv/versions/3.8.12/envs/lewagon/lib/python3.8/site-packages (from s3fs->OcuPath==1.0) (2.0.1)\n"
     ]
    },
    {
     "name": "stdout",
     "output_type": "stream",
     "text": [
      "Requirement already satisfied: scipy>=0.19.1 in /Users/lorcan/.pyenv/versions/3.8.12/envs/lewagon/lib/python3.8/site-packages (from scikit-learn->OcuPath==1.0) (1.7.3)\n",
      "Requirement already satisfied: threadpoolctl>=2.0.0 in /Users/lorcan/.pyenv/versions/3.8.12/envs/lewagon/lib/python3.8/site-packages (from scikit-learn->OcuPath==1.0) (3.0.0)\n",
      "Requirement already satisfied: pkginfo>=1.8.1 in /Users/lorcan/.pyenv/versions/3.8.12/envs/lewagon/lib/python3.8/site-packages (from twine->OcuPath==1.0) (1.8.2)\n",
      "Requirement already satisfied: keyring>=15.1 in /Users/lorcan/.pyenv/versions/3.8.12/envs/lewagon/lib/python3.8/site-packages (from twine->OcuPath==1.0) (23.4.0)\n",
      "Requirement already satisfied: colorama>=0.4.3 in /Users/lorcan/.pyenv/versions/3.8.12/envs/lewagon/lib/python3.8/site-packages (from twine->OcuPath==1.0) (0.4.4)\n",
      "Requirement already satisfied: rfc3986>=1.4.0 in /Users/lorcan/.pyenv/versions/3.8.12/envs/lewagon/lib/python3.8/site-packages (from twine->OcuPath==1.0) (1.5.0)\n",
      "Requirement already satisfied: requests-toolbelt!=0.9.0,>=0.8.0 in /Users/lorcan/.pyenv/versions/3.8.12/envs/lewagon/lib/python3.8/site-packages (from twine->OcuPath==1.0) (0.9.1)\n",
      "Requirement already satisfied: readme-renderer>=21.0 in /Users/lorcan/.pyenv/versions/3.8.12/envs/lewagon/lib/python3.8/site-packages (from twine->OcuPath==1.0) (31.0)\n",
      "Requirement already satisfied: tqdm>=4.14 in /Users/lorcan/.pyenv/versions/3.8.12/envs/lewagon/lib/python3.8/site-packages (from twine->OcuPath==1.0) (4.62.3)\n",
      "Requirement already satisfied: aioitertools>=0.5.1 in /Users/lorcan/.pyenv/versions/3.8.12/envs/lewagon/lib/python3.8/site-packages (from aiobotocore~=2.0.1->s3fs->OcuPath==1.0) (0.8.0)\n",
      "Requirement already satisfied: botocore<1.22.9,>=1.22.8 in /Users/lorcan/.pyenv/versions/3.8.12/envs/lewagon/lib/python3.8/site-packages (from aiobotocore~=2.0.1->s3fs->OcuPath==1.0) (1.22.8)\n",
      "Requirement already satisfied: wrapt>=1.10.10 in /Users/lorcan/.pyenv/versions/3.8.12/envs/lewagon/lib/python3.8/site-packages (from aiobotocore~=2.0.1->s3fs->OcuPath==1.0) (1.12.1)\n",
      "Requirement already satisfied: charset-normalizer<3.0,>=2.0 in /Users/lorcan/.pyenv/versions/3.8.12/envs/lewagon/lib/python3.8/site-packages (from aiohttp<4->gcsfs->OcuPath==1.0) (2.0.8)\n",
      "Requirement already satisfied: async-timeout<5.0,>=4.0.0a3 in /Users/lorcan/.pyenv/versions/3.8.12/envs/lewagon/lib/python3.8/site-packages (from aiohttp<4->gcsfs->OcuPath==1.0) (4.0.1)\n",
      "Requirement already satisfied: yarl<2.0,>=1.0 in /Users/lorcan/.pyenv/versions/3.8.12/envs/lewagon/lib/python3.8/site-packages (from aiohttp<4->gcsfs->OcuPath==1.0) (1.7.2)\n",
      "Requirement already satisfied: aiosignal>=1.1.2 in /Users/lorcan/.pyenv/versions/3.8.12/envs/lewagon/lib/python3.8/site-packages (from aiohttp<4->gcsfs->OcuPath==1.0) (1.2.0)\n",
      "Requirement already satisfied: multidict<7.0,>=4.5 in /Users/lorcan/.pyenv/versions/3.8.12/envs/lewagon/lib/python3.8/site-packages (from aiohttp<4->gcsfs->OcuPath==1.0) (5.2.0)\n",
      "Requirement already satisfied: frozenlist>=1.1.1 in /Users/lorcan/.pyenv/versions/3.8.12/envs/lewagon/lib/python3.8/site-packages (from aiohttp<4->gcsfs->OcuPath==1.0) (1.2.0)\n",
      "Requirement already satisfied: Mako in /Users/lorcan/.pyenv/versions/3.8.12/envs/lewagon/lib/python3.8/site-packages (from alembic<=1.4.1->mlflow->OcuPath==1.0) (1.1.6)\n",
      "Requirement already satisfied: python-editor>=0.3 in /Users/lorcan/.pyenv/versions/3.8.12/envs/lewagon/lib/python3.8/site-packages (from alembic<=1.4.1->mlflow->OcuPath==1.0) (1.0.4)\n",
      "Requirement already satisfied: tabulate>=0.7.7 in /Users/lorcan/.pyenv/versions/3.8.12/envs/lewagon/lib/python3.8/site-packages (from databricks-cli>=0.8.7->mlflow->OcuPath==1.0) (0.8.9)\n",
      "Requirement already satisfied: websocket-client>=0.32.0 in /Users/lorcan/.pyenv/versions/3.8.12/envs/lewagon/lib/python3.8/site-packages (from docker>=4.0.0->mlflow->OcuPath==1.0) (1.2.1)\n",
      "Requirement already satisfied: gitdb<5,>=4.0.1 in /Users/lorcan/.pyenv/versions/3.8.12/envs/lewagon/lib/python3.8/site-packages (from gitpython>=2.1.0->mlflow->OcuPath==1.0) (4.0.9)\n",
      "Requirement already satisfied: googleapis-common-protos<2.0dev,>=1.52.0 in /Users/lorcan/.pyenv/versions/3.8.12/envs/lewagon/lib/python3.8/site-packages (from google-api-core<3.0dev,>=1.29.0->google-cloud-storage->OcuPath==1.0) (1.54.0)\n",
      "Requirement already satisfied: rsa<5,>=3.1.4 in /Users/lorcan/.pyenv/versions/3.8.12/envs/lewagon/lib/python3.8/site-packages (from google-auth>=1.2->gcsfs->OcuPath==1.0) (4.8)\n",
      "Requirement already satisfied: cachetools<5.0,>=2.0.0 in /Users/lorcan/.pyenv/versions/3.8.12/envs/lewagon/lib/python3.8/site-packages (from google-auth>=1.2->gcsfs->OcuPath==1.0) (4.2.4)\n",
      "Requirement already satisfied: pyasn1-modules>=0.2.1 in /Users/lorcan/.pyenv/versions/3.8.12/envs/lewagon/lib/python3.8/site-packages (from google-auth>=1.2->gcsfs->OcuPath==1.0) (0.2.8)\n",
      "Requirement already satisfied: google-crc32c<2.0dev,>=1.0 in /Users/lorcan/.pyenv/versions/3.8.12/envs/lewagon/lib/python3.8/site-packages (from google-resumable-media<3.0dev,>=1.3.0->google-cloud-storage->OcuPath==1.0) (1.3.0)\n",
      "Requirement already satisfied: zipp>=0.5 in /Users/lorcan/.pyenv/versions/3.8.12/envs/lewagon/lib/python3.8/site-packages (from importlib-metadata!=4.7.0,>=3.7.0->mlflow->OcuPath==1.0) (3.6.0)\n",
      "Requirement already satisfied: Pygments>=2.5.1 in /Users/lorcan/.pyenv/versions/3.8.12/envs/lewagon/lib/python3.8/site-packages (from readme-renderer>=21.0->twine->OcuPath==1.0) (2.10.0)\n",
      "Requirement already satisfied: docutils>=0.13.1 in /Users/lorcan/.pyenv/versions/3.8.12/envs/lewagon/lib/python3.8/site-packages (from readme-renderer>=21.0->twine->OcuPath==1.0) (0.18.1)\n",
      "Requirement already satisfied: bleach>=2.1.0 in /Users/lorcan/.pyenv/versions/3.8.12/envs/lewagon/lib/python3.8/site-packages (from readme-renderer>=21.0->twine->OcuPath==1.0) (4.1.0)\n",
      "Requirement already satisfied: idna<4,>=2.5 in /Users/lorcan/.pyenv/versions/3.8.12/envs/lewagon/lib/python3.8/site-packages (from requests->gcsfs->OcuPath==1.0) (3.3)\n",
      "Requirement already satisfied: certifi>=2017.4.17 in /Users/lorcan/.pyenv/versions/3.8.12/envs/lewagon/lib/python3.8/site-packages (from requests->gcsfs->OcuPath==1.0) (2021.10.8)\n",
      "Requirement already satisfied: urllib3<1.27,>=1.21.1 in /Users/lorcan/.pyenv/versions/3.8.12/envs/lewagon/lib/python3.8/site-packages (from requests->gcsfs->OcuPath==1.0) (1.26.7)\n",
      "Requirement already satisfied: greenlet!=0.4.17 in /Users/lorcan/.pyenv/versions/3.8.12/envs/lewagon/lib/python3.8/site-packages (from sqlalchemy->mlflow->OcuPath==1.0) (1.1.2)\n",
      "Requirement already satisfied: Werkzeug>=2.0 in /Users/lorcan/.pyenv/versions/3.8.12/envs/lewagon/lib/python3.8/site-packages (from Flask->mlflow->OcuPath==1.0) (2.0.2)\n",
      "Requirement already satisfied: itsdangerous>=2.0 in /Users/lorcan/.pyenv/versions/3.8.12/envs/lewagon/lib/python3.8/site-packages (from Flask->mlflow->OcuPath==1.0) (2.0.1)\n",
      "Requirement already satisfied: Jinja2>=3.0 in /Users/lorcan/.pyenv/versions/3.8.12/envs/lewagon/lib/python3.8/site-packages (from Flask->mlflow->OcuPath==1.0) (3.0.3)\n",
      "Requirement already satisfied: requests-oauthlib>=0.7.0 in /Users/lorcan/.pyenv/versions/3.8.12/envs/lewagon/lib/python3.8/site-packages (from google-auth-oauthlib->gcsfs->OcuPath==1.0) (1.3.0)\n",
      "Requirement already satisfied: pyparsing>=2.0.2 in /Users/lorcan/.pyenv/versions/3.8.12/envs/lewagon/lib/python3.8/site-packages (from packaging->mlflow->OcuPath==1.0) (3.0.6)\n",
      "Requirement already satisfied: prometheus-client in /Users/lorcan/.pyenv/versions/3.8.12/envs/lewagon/lib/python3.8/site-packages (from prometheus-flask-exporter->mlflow->OcuPath==1.0) (0.12.0)\n",
      "Requirement already satisfied: webencodings in /Users/lorcan/.pyenv/versions/3.8.12/envs/lewagon/lib/python3.8/site-packages (from bleach>=2.1.0->readme-renderer>=21.0->twine->OcuPath==1.0) (0.5.1)\n",
      "Requirement already satisfied: jmespath<1.0.0,>=0.7.1 in /Users/lorcan/.pyenv/versions/3.8.12/envs/lewagon/lib/python3.8/site-packages (from botocore<1.22.9,>=1.22.8->aiobotocore~=2.0.1->s3fs->OcuPath==1.0) (0.10.0)\n",
      "Requirement already satisfied: smmap<6,>=3.0.1 in /Users/lorcan/.pyenv/versions/3.8.12/envs/lewagon/lib/python3.8/site-packages (from gitdb<5,>=4.0.1->gitpython>=2.1.0->mlflow->OcuPath==1.0) (5.0.0)\n",
      "Requirement already satisfied: MarkupSafe>=2.0 in /Users/lorcan/.pyenv/versions/3.8.12/envs/lewagon/lib/python3.8/site-packages (from Jinja2>=3.0->Flask->mlflow->OcuPath==1.0) (2.0.1)\n",
      "Requirement already satisfied: pyasn1<0.5.0,>=0.4.6 in /Users/lorcan/.pyenv/versions/3.8.12/envs/lewagon/lib/python3.8/site-packages (from pyasn1-modules>=0.2.1->google-auth>=1.2->gcsfs->OcuPath==1.0) (0.4.8)\n"
     ]
    },
    {
     "name": "stdout",
     "output_type": "stream",
     "text": [
      "Requirement already satisfied: oauthlib>=3.0.0 in /Users/lorcan/.pyenv/versions/3.8.12/envs/lewagon/lib/python3.8/site-packages (from requests-oauthlib>=0.7.0->google-auth-oauthlib->gcsfs->OcuPath==1.0) (3.1.1)\n",
      "Installing collected packages: OcuPath\n",
      "  Attempting uninstall: OcuPath\n",
      "    Found existing installation: OcuPath 1.0\n",
      "    Uninstalling OcuPath-1.0:\n",
      "      Successfully uninstalled OcuPath-1.0\n",
      "  Running setup.py develop for OcuPath\n",
      "Successfully installed OcuPath-1.0\n",
      "CPU times: user 31.3 ms, sys: 16.5 ms, total: 47.8 ms\n",
      "Wall time: 4.14 s\n"
     ]
    }
   ],
   "source": [
    "%%time\n",
    "!pip install -e ../."
   ]
  },
  {
   "cell_type": "code",
   "execution_count": 3,
   "id": "2ef82728",
   "metadata": {},
   "outputs": [
    {
     "name": "stdout",
     "output_type": "stream",
     "text": [
      "CPU times: user 2.26 s, sys: 1.52 s, total: 3.77 s\n",
      "Wall time: 2.62 s\n"
     ]
    }
   ],
   "source": [
    "%%time\n",
    "from OcuPath.trainer import Trainer"
   ]
  },
  {
   "cell_type": "code",
   "execution_count": 4,
   "id": "7fce93ce",
   "metadata": {
    "scrolled": false
   },
   "outputs": [
    {
     "name": "stdout",
     "output_type": "stream",
     "text": [
      "Found 5114 validated image filenames.\n",
      "Found 1278 validated image filenames.\n",
      "CPU times: user 320 ms, sys: 27.6 ms, total: 347 ms\n",
      "Wall time: 357 ms\n"
     ]
    }
   ],
   "source": [
    "%%time\n",
    "trainer = Trainer()"
   ]
  },
  {
   "cell_type": "code",
   "execution_count": 5,
   "id": "d07252f7",
   "metadata": {},
   "outputs": [
    {
     "name": "stderr",
     "output_type": "stream",
     "text": [
      "2021-12-21 11:04:34.343492: I tensorflow/core/platform/cpu_feature_guard.cc:142] This TensorFlow binary is optimized with oneAPI Deep Neural Network Library (oneDNN) to use the following CPU instructions in performance-critical operations:  SSE4.2\n",
      "To enable them in other operations, rebuild TensorFlow with the appropriate compiler flags.\n",
      "2021-12-21 11:04:34.479442: I tensorflow/compiler/mlir/mlir_graph_optimization_pass.cc:176] None of the MLIR Optimization Passes are enabled (registered 2)\n"
     ]
    },
    {
     "name": "stdout",
     "output_type": "stream",
     "text": [
      "Epoch 1/10\n",
      "319/319 [==============================] - 30s 92ms/step - loss: 0.4379 - accuracy: 0.3029 - recall: 0.3007 - precision: 0.2119 - val_loss: 0.3554 - val_accuracy: 0.4111 - val_recall: 0.0000e+00 - val_precision: 0.0000e+00\n",
      "Epoch 2/10\n",
      "319/319 [==============================] - 29s 90ms/step - loss: 0.3026 - accuracy: 0.5224 - recall: 0.1941 - precision: 0.4454 - val_loss: 0.3402 - val_accuracy: 0.4127 - val_recall: 0.2904 - val_precision: 0.2404\n",
      "Epoch 3/10\n",
      "319/319 [==============================] - 29s 91ms/step - loss: 0.2882 - accuracy: 0.5406 - recall: 0.2516 - precision: 0.4682 - val_loss: 0.3395 - val_accuracy: 0.4095 - val_recall: 0.2872 - val_precision: 0.2380\n",
      "Epoch 4/10\n",
      "319/319 [==============================] - 29s 91ms/step - loss: 0.2810 - accuracy: 0.5526 - recall: 0.2399 - precision: 0.4854 - val_loss: 0.3334 - val_accuracy: 0.4135 - val_recall: 0.0000e+00 - val_precision: 0.0000e+00\n",
      "Epoch 5/10\n",
      "319/319 [==============================] - 29s 91ms/step - loss: 0.2781 - accuracy: 0.5541 - recall: 0.1719 - precision: 0.4884 - val_loss: 0.3381 - val_accuracy: 0.4119 - val_recall: 0.2244 - val_precision: 0.2508\n",
      "Epoch 6/10\n",
      "319/319 [==============================] - 29s 92ms/step - loss: 0.2760 - accuracy: 0.5545 - recall: 0.1958 - precision: 0.4913 - val_loss: 0.3376 - val_accuracy: 0.4119 - val_recall: 0.0000e+00 - val_precision: 0.0000e+00\n",
      "Epoch 7/10\n",
      "319/319 [==============================] - 29s 91ms/step - loss: 0.2743 - accuracy: 0.5553 - recall: 0.1822 - precision: 0.4901 - val_loss: 0.3428 - val_accuracy: 0.4127 - val_recall: 0.2897 - val_precision: 0.2396\n",
      "Epoch 8/10\n",
      "319/319 [==============================] - 29s 90ms/step - loss: 0.2745 - accuracy: 0.5549 - recall: 0.2057 - precision: 0.4912 - val_loss: 0.3381 - val_accuracy: 0.4135 - val_recall: 0.0000e+00 - val_precision: 0.0000e+00\n",
      "Epoch 9/10\n",
      "319/319 [==============================] - 30s 95ms/step - loss: 0.2743 - accuracy: 0.5543 - recall: 0.1615 - precision: 0.4798 - val_loss: 0.3421 - val_accuracy: 0.4062 - val_recall: 0.0000e+00 - val_precision: 0.0000e+00\n",
      "Epoch 10/10\n",
      "319/319 [==============================] - 29s 91ms/step - loss: 0.2730 - accuracy: 0.5551 - recall: 0.1522 - precision: 0.4736 - val_loss: 0.3432 - val_accuracy: 0.4143 - val_recall: 0.2629 - val_precision: 0.2455\n"
     ]
    }
   ],
   "source": [
    "trainer.run()"
   ]
  }
 ],
 "metadata": {
  "kernelspec": {
   "display_name": "Python 3 (ipykernel)",
   "language": "python",
   "name": "python3"
  },
  "language_info": {
   "codemirror_mode": {
    "name": "ipython",
    "version": 3
   },
   "file_extension": ".py",
   "mimetype": "text/x-python",
   "name": "python",
   "nbconvert_exporter": "python",
   "pygments_lexer": "ipython3",
   "version": "3.8.12"
  },
  "toc": {
   "base_numbering": 1,
   "nav_menu": {},
   "number_sections": true,
   "sideBar": true,
   "skip_h1_title": false,
   "title_cell": "Table of Contents",
   "title_sidebar": "Contents",
   "toc_cell": false,
   "toc_position": {},
   "toc_section_display": true,
   "toc_window_display": true
  }
 },
 "nbformat": 4,
 "nbformat_minor": 5
}
