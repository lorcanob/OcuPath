{
 "cells": [
  {
   "cell_type": "markdown",
   "id": "a018326b",
   "metadata": {},
   "source": [
    "# Exploratory Data Analysis of the Ocular Disease Recognition dataset"
   ]
  },
  {
   "cell_type": "markdown",
   "id": "0847d5a4",
   "metadata": {},
   "source": [
    "### What do I plan to do?\n",
    "I want to take the inputs:\n",
    "- Patient info (Age, Sex)\n",
    "- Fundus imagery\n",
    "\n",
    "and output a set of diagnostic keywords for their pathology"
   ]
  },
  {
   "cell_type": "markdown",
   "id": "317ef8fb",
   "metadata": {},
   "source": [
    "#### Imports"
   ]
  },
  {
   "cell_type": "code",
   "execution_count": 44,
   "id": "5e1bc706",
   "metadata": {
    "scrolled": true
   },
   "outputs": [
    {
     "name": "stdout",
     "output_type": "stream",
     "text": [
      "The autoreload extension is already loaded. To reload it, use:\n",
      "  %reload_ext autoreload\n"
     ]
    }
   ],
   "source": [
    "%load_ext autoreload\n",
    "%autoreload 2"
   ]
  },
  {
   "cell_type": "code",
   "execution_count": 64,
   "id": "52dea5df",
   "metadata": {},
   "outputs": [],
   "source": [
    "!pip install --quiet -e ../."
   ]
  },
  {
   "cell_type": "code",
   "execution_count": 46,
   "id": "c3df14c3",
   "metadata": {},
   "outputs": [],
   "source": [
    "#OcuPath\n",
    "from OcuPath.dataframer import DataFramer\n",
    "\n",
    "#DS\n",
    "import sys\n",
    "import os\n",
    "import re\n",
    "import math\n",
    "import numpy as np\n",
    "import pandas as pd\n",
    "\n",
    "#EDA\n",
    "import matplotlib.pyplot as plt\n",
    "import seaborn as sns\n",
    "import plotly.express as px\n",
    "import plotly.graph_objects as go"
   ]
  },
  {
   "cell_type": "code",
   "execution_count": 60,
   "id": "f79ff2ee",
   "metadata": {},
   "outputs": [
    {
     "name": "stdout",
     "output_type": "stream",
     "text": [
      "Cataract (C)\n"
     ]
    }
   ],
   "source": [
    "dataframer = DataFramer()\n",
    "data = dataframer.read_data()\n",
    "dataframer.test()"
   ]
  },
  {
   "cell_type": "code",
   "execution_count": 63,
   "id": "94dcedad",
   "metadata": {},
   "outputs": [],
   "source": [
    "left_key_list = dataframer.get_key_list(data['Left-Diagnostic Keywords'])\n",
    "right_key_list = dataframer.get_key_list(data['Right-Diagnostic Keywords'], left_key_list)\n",
    "\n",
    "# To extract the jpg filename\n",
    "left, right = dataframer.extract_jpg_names()\n",
    "\n",
    "# Need to work on developing the custom encoder below\n",
    "# Boilerplate OHE\n",
    "def has_keyword_mentioned(text, keyword):\n",
    "    if keyword in text:\n",
    "        return 1\n",
    "    else:\n",
    "        return 0\n",
    "\n",
    "fig, axs = plt.subplots(5, 3, figsize=(16,16))\n",
    "\n",
    "for i in range(5):\n",
    "    for j in range(3):\n",
    "        axs[i,j].imshow(plt.imread(f'../raw_data/preprocessed_images/{right[(i+1)*(j+1)][0]}'))"
   ]
  },
  {
   "cell_type": "code",
   "execution_count": null,
   "id": "e156fbc8",
   "metadata": {},
   "outputs": [],
   "source": []
  }
 ],
 "metadata": {
  "kernelspec": {
   "display_name": "Python 3 (ipykernel)",
   "language": "python",
   "name": "python3"
  },
  "language_info": {
   "codemirror_mode": {
    "name": "ipython",
    "version": 3
   },
   "file_extension": ".py",
   "mimetype": "text/x-python",
   "name": "python",
   "nbconvert_exporter": "python",
   "pygments_lexer": "ipython3",
   "version": "3.8.12"
  },
  "toc": {
   "base_numbering": 1,
   "nav_menu": {},
   "number_sections": true,
   "sideBar": true,
   "skip_h1_title": false,
   "title_cell": "Table of Contents",
   "title_sidebar": "Contents",
   "toc_cell": false,
   "toc_position": {
    "height": "calc(100% - 180px)",
    "left": "10px",
    "top": "150px",
    "width": "288px"
   },
   "toc_section_display": true,
   "toc_window_display": true
  }
 },
 "nbformat": 4,
 "nbformat_minor": 5
}
