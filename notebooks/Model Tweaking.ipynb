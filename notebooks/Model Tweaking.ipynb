{
 "cells": [
  {
   "cell_type": "code",
   "execution_count": 18,
   "id": "f532ea2f",
   "metadata": {},
   "outputs": [
    {
     "name": "stdout",
     "output_type": "stream",
     "text": [
      "The autoreload extension is already loaded. To reload it, use:\n",
      "  %reload_ext autoreload\n"
     ]
    }
   ],
   "source": [
    "%load_ext autoreload\n",
    "%autoreload 2"
   ]
  },
  {
   "cell_type": "code",
   "execution_count": 19,
   "id": "115e5eb5",
   "metadata": {},
   "outputs": [
    {
     "name": "stdout",
     "output_type": "stream",
     "text": [
      "Obtaining file:///Users/lorcan/code/lorcanob/OcuPath\n",
      "  Preparing metadata (setup.py) ... \u001b[?25ldone\n",
      "\u001b[?25hRequirement already satisfied: pip>=9 in /Users/lorcan/.pyenv/versions/3.8.12/envs/lewagon/lib/python3.8/site-packages (from OcuPath==1.0) (21.3.1)\n",
      "Requirement already satisfied: setuptools>=26 in /Users/lorcan/.pyenv/versions/3.8.12/envs/lewagon/lib/python3.8/site-packages (from OcuPath==1.0) (56.0.0)\n",
      "Requirement already satisfied: twine in /Users/lorcan/.pyenv/versions/3.8.12/envs/lewagon/lib/python3.8/site-packages (from OcuPath==1.0) (3.7.1)\n",
      "Requirement already satisfied: wheel>=0.29 in /Users/lorcan/.pyenv/versions/3.8.12/envs/lewagon/lib/python3.8/site-packages (from OcuPath==1.0) (0.37.0)\n",
      "Requirement already satisfied: numpy in /Users/lorcan/.pyenv/versions/3.8.12/envs/lewagon/lib/python3.8/site-packages (from OcuPath==1.0) (1.19.5)\n",
      "Requirement already satisfied: pandas in /Users/lorcan/.pyenv/versions/3.8.12/envs/lewagon/lib/python3.8/site-packages (from OcuPath==1.0) (1.3.4)\n",
      "Requirement already satisfied: scikit-learn in /Users/lorcan/.pyenv/versions/3.8.12/envs/lewagon/lib/python3.8/site-packages (from OcuPath==1.0) (0.24.2)\n",
      "Requirement already satisfied: keras_preprocessing in /Users/lorcan/.pyenv/versions/3.8.12/envs/lewagon/lib/python3.8/site-packages (from OcuPath==1.0) (1.1.2)\n",
      "Requirement already satisfied: black in /Users/lorcan/.pyenv/versions/3.8.12/envs/lewagon/lib/python3.8/site-packages (from OcuPath==1.0) (21.12b0)\n",
      "Requirement already satisfied: coverage in /Users/lorcan/.pyenv/versions/3.8.12/envs/lewagon/lib/python3.8/site-packages (from OcuPath==1.0) (6.2)\n",
      "Requirement already satisfied: flake8 in /Users/lorcan/.pyenv/versions/3.8.12/envs/lewagon/lib/python3.8/site-packages (from OcuPath==1.0) (4.0.1)\n",
      "Requirement already satisfied: pytest in /Users/lorcan/.pyenv/versions/3.8.12/envs/lewagon/lib/python3.8/site-packages (from OcuPath==1.0) (6.2.5)\n",
      "Requirement already satisfied: yapf in /Users/lorcan/.pyenv/versions/3.8.12/envs/lewagon/lib/python3.8/site-packages (from OcuPath==1.0) (0.31.0)\n",
      "Requirement already satisfied: gcsfs in /Users/lorcan/.pyenv/versions/3.8.12/envs/lewagon/lib/python3.8/site-packages (from OcuPath==1.0) (2021.11.1)\n",
      "Requirement already satisfied: google-cloud-storage in /Users/lorcan/.pyenv/versions/3.8.12/envs/lewagon/lib/python3.8/site-packages (from OcuPath==1.0) (1.43.0)\n",
      "Requirement already satisfied: mlflow in /Users/lorcan/.pyenv/versions/3.8.12/envs/lewagon/lib/python3.8/site-packages (from OcuPath==1.0) (1.22.0)\n",
      "Requirement already satisfied: s3fs in /Users/lorcan/.pyenv/versions/3.8.12/envs/lewagon/lib/python3.8/site-packages (from OcuPath==1.0) (2021.11.1)\n",
      "Requirement already satisfied: six>=1.14 in /Users/lorcan/.pyenv/versions/3.8.12/envs/lewagon/lib/python3.8/site-packages (from OcuPath==1.0) (1.15.0)\n",
      "Requirement already satisfied: joblib in /Users/lorcan/.pyenv/versions/3.8.12/envs/lewagon/lib/python3.8/site-packages (from OcuPath==1.0) (1.0.1)\n",
      "Requirement already satisfied: memoized-property in /Users/lorcan/.pyenv/versions/3.8.12/envs/lewagon/lib/python3.8/site-packages (from OcuPath==1.0) (1.0.3)\n",
      "Requirement already satisfied: termcolor in /Users/lorcan/.pyenv/versions/3.8.12/envs/lewagon/lib/python3.8/site-packages (from OcuPath==1.0) (1.1.0)\n",
      "Requirement already satisfied: pathspec<1,>=0.9.0 in /Users/lorcan/.pyenv/versions/3.8.12/envs/lewagon/lib/python3.8/site-packages (from black->OcuPath==1.0) (0.9.0)\n",
      "Requirement already satisfied: mypy-extensions>=0.4.3 in /Users/lorcan/.pyenv/versions/3.8.12/envs/lewagon/lib/python3.8/site-packages (from black->OcuPath==1.0) (0.4.3)\n",
      "Requirement already satisfied: platformdirs>=2 in /Users/lorcan/.pyenv/versions/3.8.12/envs/lewagon/lib/python3.8/site-packages (from black->OcuPath==1.0) (2.4.0)\n",
      "Requirement already satisfied: tomli<2.0.0,>=0.2.6 in /Users/lorcan/.pyenv/versions/3.8.12/envs/lewagon/lib/python3.8/site-packages (from black->OcuPath==1.0) (1.2.2)\n",
      "Requirement already satisfied: click>=7.1.2 in /Users/lorcan/.pyenv/versions/3.8.12/envs/lewagon/lib/python3.8/site-packages (from black->OcuPath==1.0) (7.1.2)\n",
      "Requirement already satisfied: typing-extensions>=3.10.0.0 in /Users/lorcan/.pyenv/versions/3.8.12/envs/lewagon/lib/python3.8/site-packages (from black->OcuPath==1.0) (4.0.1)\n",
      "Requirement already satisfied: mccabe<0.7.0,>=0.6.0 in /Users/lorcan/.pyenv/versions/3.8.12/envs/lewagon/lib/python3.8/site-packages (from flake8->OcuPath==1.0) (0.6.1)\n",
      "Requirement already satisfied: pyflakes<2.5.0,>=2.4.0 in /Users/lorcan/.pyenv/versions/3.8.12/envs/lewagon/lib/python3.8/site-packages (from flake8->OcuPath==1.0) (2.4.0)\n",
      "Requirement already satisfied: pycodestyle<2.9.0,>=2.8.0 in /Users/lorcan/.pyenv/versions/3.8.12/envs/lewagon/lib/python3.8/site-packages (from flake8->OcuPath==1.0) (2.8.0)\n",
      "Requirement already satisfied: google-auth>=1.2 in /Users/lorcan/.pyenv/versions/3.8.12/envs/lewagon/lib/python3.8/site-packages (from gcsfs->OcuPath==1.0) (2.3.3)\n",
      "Requirement already satisfied: aiohttp<4 in /Users/lorcan/.pyenv/versions/3.8.12/envs/lewagon/lib/python3.8/site-packages (from gcsfs->OcuPath==1.0) (3.8.1)\n",
      "Requirement already satisfied: requests in /Users/lorcan/.pyenv/versions/3.8.12/envs/lewagon/lib/python3.8/site-packages (from gcsfs->OcuPath==1.0) (2.26.0)\n",
      "Requirement already satisfied: decorator>4.1.2 in /Users/lorcan/.pyenv/versions/3.8.12/envs/lewagon/lib/python3.8/site-packages (from gcsfs->OcuPath==1.0) (5.1.0)\n",
      "Requirement already satisfied: google-auth-oauthlib in /Users/lorcan/.pyenv/versions/3.8.12/envs/lewagon/lib/python3.8/site-packages (from gcsfs->OcuPath==1.0) (0.4.6)\n",
      "Requirement already satisfied: fsspec==2021.11.1 in /Users/lorcan/.pyenv/versions/3.8.12/envs/lewagon/lib/python3.8/site-packages (from gcsfs->OcuPath==1.0) (2021.11.1)\n",
      "Requirement already satisfied: protobuf in /Users/lorcan/.pyenv/versions/3.8.12/envs/lewagon/lib/python3.8/site-packages (from google-cloud-storage->OcuPath==1.0) (3.19.1)\n",
      "Requirement already satisfied: google-cloud-core<3.0dev,>=1.6.0 in /Users/lorcan/.pyenv/versions/3.8.12/envs/lewagon/lib/python3.8/site-packages (from google-cloud-storage->OcuPath==1.0) (2.2.1)\n",
      "Requirement already satisfied: google-api-core<3.0dev,>=1.29.0 in /Users/lorcan/.pyenv/versions/3.8.12/envs/lewagon/lib/python3.8/site-packages (from google-cloud-storage->OcuPath==1.0) (2.3.0)\n",
      "Requirement already satisfied: google-resumable-media<3.0dev,>=1.3.0 in /Users/lorcan/.pyenv/versions/3.8.12/envs/lewagon/lib/python3.8/site-packages (from google-cloud-storage->OcuPath==1.0) (2.1.0)\n",
      "Requirement already satisfied: entrypoints in /Users/lorcan/.pyenv/versions/3.8.12/envs/lewagon/lib/python3.8/site-packages (from mlflow->OcuPath==1.0) (0.3)\n",
      "Requirement already satisfied: pytz in /Users/lorcan/.pyenv/versions/3.8.12/envs/lewagon/lib/python3.8/site-packages (from mlflow->OcuPath==1.0) (2021.3)\n",
      "Requirement already satisfied: gitpython>=2.1.0 in /Users/lorcan/.pyenv/versions/3.8.12/envs/lewagon/lib/python3.8/site-packages (from mlflow->OcuPath==1.0) (3.1.24)\n",
      "Requirement already satisfied: sqlparse>=0.3.1 in /Users/lorcan/.pyenv/versions/3.8.12/envs/lewagon/lib/python3.8/site-packages (from mlflow->OcuPath==1.0) (0.4.2)\n",
      "Requirement already satisfied: importlib-metadata!=4.7.0,>=3.7.0 in /Users/lorcan/.pyenv/versions/3.8.12/envs/lewagon/lib/python3.8/site-packages (from mlflow->OcuPath==1.0) (4.8.2)\n",
      "Requirement already satisfied: databricks-cli>=0.8.7 in /Users/lorcan/.pyenv/versions/3.8.12/envs/lewagon/lib/python3.8/site-packages (from mlflow->OcuPath==1.0) (0.16.2)\n",
      "Requirement already satisfied: alembic<=1.4.1 in /Users/lorcan/.pyenv/versions/3.8.12/envs/lewagon/lib/python3.8/site-packages (from mlflow->OcuPath==1.0) (1.4.1)\n",
      "Requirement already satisfied: cloudpickle in /Users/lorcan/.pyenv/versions/3.8.12/envs/lewagon/lib/python3.8/site-packages (from mlflow->OcuPath==1.0) (2.0.0)\n",
      "Requirement already satisfied: prometheus-flask-exporter in /Users/lorcan/.pyenv/versions/3.8.12/envs/lewagon/lib/python3.8/site-packages (from mlflow->OcuPath==1.0) (0.18.6)\n",
      "Requirement already satisfied: packaging in /Users/lorcan/.pyenv/versions/3.8.12/envs/lewagon/lib/python3.8/site-packages (from mlflow->OcuPath==1.0) (21.0)\n",
      "Requirement already satisfied: sqlalchemy in /Users/lorcan/.pyenv/versions/3.8.12/envs/lewagon/lib/python3.8/site-packages (from mlflow->OcuPath==1.0) (1.4.28)\n",
      "Requirement already satisfied: querystring-parser in /Users/lorcan/.pyenv/versions/3.8.12/envs/lewagon/lib/python3.8/site-packages (from mlflow->OcuPath==1.0) (1.2.4)\n",
      "Requirement already satisfied: gunicorn in /Users/lorcan/.pyenv/versions/3.8.12/envs/lewagon/lib/python3.8/site-packages (from mlflow->OcuPath==1.0) (20.1.0)\n",
      "Requirement already satisfied: docker>=4.0.0 in /Users/lorcan/.pyenv/versions/3.8.12/envs/lewagon/lib/python3.8/site-packages (from mlflow->OcuPath==1.0) (5.0.3)\n",
      "Requirement already satisfied: Flask in /Users/lorcan/.pyenv/versions/3.8.12/envs/lewagon/lib/python3.8/site-packages (from mlflow->OcuPath==1.0) (2.0.2)\n",
      "Requirement already satisfied: pyyaml>=5.1 in /Users/lorcan/.pyenv/versions/3.8.12/envs/lewagon/lib/python3.8/site-packages (from mlflow->OcuPath==1.0) (6.0)\n"
     ]
    },
    {
     "name": "stdout",
     "output_type": "stream",
     "text": [
      "Requirement already satisfied: python-dateutil>=2.7.3 in /Users/lorcan/.pyenv/versions/3.8.12/envs/lewagon/lib/python3.8/site-packages (from pandas->OcuPath==1.0) (2.8.2)\n",
      "Requirement already satisfied: py>=1.8.2 in /Users/lorcan/.pyenv/versions/3.8.12/envs/lewagon/lib/python3.8/site-packages (from pytest->OcuPath==1.0) (1.11.0)\n",
      "Requirement already satisfied: toml in /Users/lorcan/.pyenv/versions/3.8.12/envs/lewagon/lib/python3.8/site-packages (from pytest->OcuPath==1.0) (0.10.2)\n",
      "Requirement already satisfied: attrs>=19.2.0 in /Users/lorcan/.pyenv/versions/3.8.12/envs/lewagon/lib/python3.8/site-packages (from pytest->OcuPath==1.0) (21.2.0)\n",
      "Requirement already satisfied: iniconfig in /Users/lorcan/.pyenv/versions/3.8.12/envs/lewagon/lib/python3.8/site-packages (from pytest->OcuPath==1.0) (1.1.1)\n",
      "Requirement already satisfied: pluggy<2.0,>=0.12 in /Users/lorcan/.pyenv/versions/3.8.12/envs/lewagon/lib/python3.8/site-packages (from pytest->OcuPath==1.0) (1.0.0)\n",
      "Requirement already satisfied: aiobotocore~=2.0.1 in /Users/lorcan/.pyenv/versions/3.8.12/envs/lewagon/lib/python3.8/site-packages (from s3fs->OcuPath==1.0) (2.0.1)\n",
      "Requirement already satisfied: threadpoolctl>=2.0.0 in /Users/lorcan/.pyenv/versions/3.8.12/envs/lewagon/lib/python3.8/site-packages (from scikit-learn->OcuPath==1.0) (3.0.0)\n",
      "Requirement already satisfied: scipy>=0.19.1 in /Users/lorcan/.pyenv/versions/3.8.12/envs/lewagon/lib/python3.8/site-packages (from scikit-learn->OcuPath==1.0) (1.7.3)\n",
      "Requirement already satisfied: pkginfo>=1.8.1 in /Users/lorcan/.pyenv/versions/3.8.12/envs/lewagon/lib/python3.8/site-packages (from twine->OcuPath==1.0) (1.8.2)\n",
      "Requirement already satisfied: readme-renderer>=21.0 in /Users/lorcan/.pyenv/versions/3.8.12/envs/lewagon/lib/python3.8/site-packages (from twine->OcuPath==1.0) (31.0)\n",
      "Requirement already satisfied: tqdm>=4.14 in /Users/lorcan/.pyenv/versions/3.8.12/envs/lewagon/lib/python3.8/site-packages (from twine->OcuPath==1.0) (4.62.3)\n",
      "Requirement already satisfied: requests-toolbelt!=0.9.0,>=0.8.0 in /Users/lorcan/.pyenv/versions/3.8.12/envs/lewagon/lib/python3.8/site-packages (from twine->OcuPath==1.0) (0.9.1)\n",
      "Requirement already satisfied: rfc3986>=1.4.0 in /Users/lorcan/.pyenv/versions/3.8.12/envs/lewagon/lib/python3.8/site-packages (from twine->OcuPath==1.0) (1.5.0)\n",
      "Requirement already satisfied: colorama>=0.4.3 in /Users/lorcan/.pyenv/versions/3.8.12/envs/lewagon/lib/python3.8/site-packages (from twine->OcuPath==1.0) (0.4.4)\n",
      "Requirement already satisfied: keyring>=15.1 in /Users/lorcan/.pyenv/versions/3.8.12/envs/lewagon/lib/python3.8/site-packages (from twine->OcuPath==1.0) (23.4.0)\n",
      "Requirement already satisfied: wrapt>=1.10.10 in /Users/lorcan/.pyenv/versions/3.8.12/envs/lewagon/lib/python3.8/site-packages (from aiobotocore~=2.0.1->s3fs->OcuPath==1.0) (1.12.1)\n",
      "Requirement already satisfied: botocore<1.22.9,>=1.22.8 in /Users/lorcan/.pyenv/versions/3.8.12/envs/lewagon/lib/python3.8/site-packages (from aiobotocore~=2.0.1->s3fs->OcuPath==1.0) (1.22.8)\n",
      "Requirement already satisfied: aioitertools>=0.5.1 in /Users/lorcan/.pyenv/versions/3.8.12/envs/lewagon/lib/python3.8/site-packages (from aiobotocore~=2.0.1->s3fs->OcuPath==1.0) (0.8.0)\n",
      "Requirement already satisfied: charset-normalizer<3.0,>=2.0 in /Users/lorcan/.pyenv/versions/3.8.12/envs/lewagon/lib/python3.8/site-packages (from aiohttp<4->gcsfs->OcuPath==1.0) (2.0.8)\n",
      "Requirement already satisfied: async-timeout<5.0,>=4.0.0a3 in /Users/lorcan/.pyenv/versions/3.8.12/envs/lewagon/lib/python3.8/site-packages (from aiohttp<4->gcsfs->OcuPath==1.0) (4.0.1)\n",
      "Requirement already satisfied: aiosignal>=1.1.2 in /Users/lorcan/.pyenv/versions/3.8.12/envs/lewagon/lib/python3.8/site-packages (from aiohttp<4->gcsfs->OcuPath==1.0) (1.2.0)\n",
      "Requirement already satisfied: multidict<7.0,>=4.5 in /Users/lorcan/.pyenv/versions/3.8.12/envs/lewagon/lib/python3.8/site-packages (from aiohttp<4->gcsfs->OcuPath==1.0) (5.2.0)\n",
      "Requirement already satisfied: yarl<2.0,>=1.0 in /Users/lorcan/.pyenv/versions/3.8.12/envs/lewagon/lib/python3.8/site-packages (from aiohttp<4->gcsfs->OcuPath==1.0) (1.7.2)\n",
      "Requirement already satisfied: frozenlist>=1.1.1 in /Users/lorcan/.pyenv/versions/3.8.12/envs/lewagon/lib/python3.8/site-packages (from aiohttp<4->gcsfs->OcuPath==1.0) (1.2.0)\n",
      "Requirement already satisfied: python-editor>=0.3 in /Users/lorcan/.pyenv/versions/3.8.12/envs/lewagon/lib/python3.8/site-packages (from alembic<=1.4.1->mlflow->OcuPath==1.0) (1.0.4)\n",
      "Requirement already satisfied: Mako in /Users/lorcan/.pyenv/versions/3.8.12/envs/lewagon/lib/python3.8/site-packages (from alembic<=1.4.1->mlflow->OcuPath==1.0) (1.1.6)\n",
      "Requirement already satisfied: tabulate>=0.7.7 in /Users/lorcan/.pyenv/versions/3.8.12/envs/lewagon/lib/python3.8/site-packages (from databricks-cli>=0.8.7->mlflow->OcuPath==1.0) (0.8.9)\n",
      "Requirement already satisfied: websocket-client>=0.32.0 in /Users/lorcan/.pyenv/versions/3.8.12/envs/lewagon/lib/python3.8/site-packages (from docker>=4.0.0->mlflow->OcuPath==1.0) (1.2.1)\n",
      "Requirement already satisfied: gitdb<5,>=4.0.1 in /Users/lorcan/.pyenv/versions/3.8.12/envs/lewagon/lib/python3.8/site-packages (from gitpython>=2.1.0->mlflow->OcuPath==1.0) (4.0.9)\n",
      "Requirement already satisfied: googleapis-common-protos<2.0dev,>=1.52.0 in /Users/lorcan/.pyenv/versions/3.8.12/envs/lewagon/lib/python3.8/site-packages (from google-api-core<3.0dev,>=1.29.0->google-cloud-storage->OcuPath==1.0) (1.54.0)\n",
      "Requirement already satisfied: rsa<5,>=3.1.4 in /Users/lorcan/.pyenv/versions/3.8.12/envs/lewagon/lib/python3.8/site-packages (from google-auth>=1.2->gcsfs->OcuPath==1.0) (4.8)\n",
      "Requirement already satisfied: pyasn1-modules>=0.2.1 in /Users/lorcan/.pyenv/versions/3.8.12/envs/lewagon/lib/python3.8/site-packages (from google-auth>=1.2->gcsfs->OcuPath==1.0) (0.2.8)\n",
      "Requirement already satisfied: cachetools<5.0,>=2.0.0 in /Users/lorcan/.pyenv/versions/3.8.12/envs/lewagon/lib/python3.8/site-packages (from google-auth>=1.2->gcsfs->OcuPath==1.0) (4.2.4)\n",
      "Requirement already satisfied: google-crc32c<2.0dev,>=1.0 in /Users/lorcan/.pyenv/versions/3.8.12/envs/lewagon/lib/python3.8/site-packages (from google-resumable-media<3.0dev,>=1.3.0->google-cloud-storage->OcuPath==1.0) (1.3.0)\n",
      "Requirement already satisfied: zipp>=0.5 in /Users/lorcan/.pyenv/versions/3.8.12/envs/lewagon/lib/python3.8/site-packages (from importlib-metadata!=4.7.0,>=3.7.0->mlflow->OcuPath==1.0) (3.6.0)\n",
      "Requirement already satisfied: docutils>=0.13.1 in /Users/lorcan/.pyenv/versions/3.8.12/envs/lewagon/lib/python3.8/site-packages (from readme-renderer>=21.0->twine->OcuPath==1.0) (0.18.1)\n",
      "Requirement already satisfied: Pygments>=2.5.1 in /Users/lorcan/.pyenv/versions/3.8.12/envs/lewagon/lib/python3.8/site-packages (from readme-renderer>=21.0->twine->OcuPath==1.0) (2.10.0)\n",
      "Requirement already satisfied: bleach>=2.1.0 in /Users/lorcan/.pyenv/versions/3.8.12/envs/lewagon/lib/python3.8/site-packages (from readme-renderer>=21.0->twine->OcuPath==1.0) (4.1.0)\n",
      "Requirement already satisfied: certifi>=2017.4.17 in /Users/lorcan/.pyenv/versions/3.8.12/envs/lewagon/lib/python3.8/site-packages (from requests->gcsfs->OcuPath==1.0) (2021.10.8)\n",
      "Requirement already satisfied: idna<4,>=2.5 in /Users/lorcan/.pyenv/versions/3.8.12/envs/lewagon/lib/python3.8/site-packages (from requests->gcsfs->OcuPath==1.0) (3.3)\n",
      "Requirement already satisfied: urllib3<1.27,>=1.21.1 in /Users/lorcan/.pyenv/versions/3.8.12/envs/lewagon/lib/python3.8/site-packages (from requests->gcsfs->OcuPath==1.0) (1.26.7)\n",
      "Requirement already satisfied: greenlet!=0.4.17 in /Users/lorcan/.pyenv/versions/3.8.12/envs/lewagon/lib/python3.8/site-packages (from sqlalchemy->mlflow->OcuPath==1.0) (1.1.2)\n",
      "Requirement already satisfied: Werkzeug>=2.0 in /Users/lorcan/.pyenv/versions/3.8.12/envs/lewagon/lib/python3.8/site-packages (from Flask->mlflow->OcuPath==1.0) (2.0.2)\n",
      "Requirement already satisfied: itsdangerous>=2.0 in /Users/lorcan/.pyenv/versions/3.8.12/envs/lewagon/lib/python3.8/site-packages (from Flask->mlflow->OcuPath==1.0) (2.0.1)\n",
      "Requirement already satisfied: Jinja2>=3.0 in /Users/lorcan/.pyenv/versions/3.8.12/envs/lewagon/lib/python3.8/site-packages (from Flask->mlflow->OcuPath==1.0) (3.0.3)\n",
      "Requirement already satisfied: requests-oauthlib>=0.7.0 in /Users/lorcan/.pyenv/versions/3.8.12/envs/lewagon/lib/python3.8/site-packages (from google-auth-oauthlib->gcsfs->OcuPath==1.0) (1.3.0)\n",
      "Requirement already satisfied: pyparsing>=2.0.2 in /Users/lorcan/.pyenv/versions/3.8.12/envs/lewagon/lib/python3.8/site-packages (from packaging->mlflow->OcuPath==1.0) (3.0.6)\n",
      "Requirement already satisfied: prometheus-client in /Users/lorcan/.pyenv/versions/3.8.12/envs/lewagon/lib/python3.8/site-packages (from prometheus-flask-exporter->mlflow->OcuPath==1.0) (0.12.0)\n",
      "Requirement already satisfied: webencodings in /Users/lorcan/.pyenv/versions/3.8.12/envs/lewagon/lib/python3.8/site-packages (from bleach>=2.1.0->readme-renderer>=21.0->twine->OcuPath==1.0) (0.5.1)\n"
     ]
    },
    {
     "name": "stdout",
     "output_type": "stream",
     "text": [
      "Requirement already satisfied: jmespath<1.0.0,>=0.7.1 in /Users/lorcan/.pyenv/versions/3.8.12/envs/lewagon/lib/python3.8/site-packages (from botocore<1.22.9,>=1.22.8->aiobotocore~=2.0.1->s3fs->OcuPath==1.0) (0.10.0)\n",
      "Requirement already satisfied: smmap<6,>=3.0.1 in /Users/lorcan/.pyenv/versions/3.8.12/envs/lewagon/lib/python3.8/site-packages (from gitdb<5,>=4.0.1->gitpython>=2.1.0->mlflow->OcuPath==1.0) (5.0.0)\n",
      "Requirement already satisfied: MarkupSafe>=2.0 in /Users/lorcan/.pyenv/versions/3.8.12/envs/lewagon/lib/python3.8/site-packages (from Jinja2>=3.0->Flask->mlflow->OcuPath==1.0) (2.0.1)\n",
      "Requirement already satisfied: pyasn1<0.5.0,>=0.4.6 in /Users/lorcan/.pyenv/versions/3.8.12/envs/lewagon/lib/python3.8/site-packages (from pyasn1-modules>=0.2.1->google-auth>=1.2->gcsfs->OcuPath==1.0) (0.4.8)\n",
      "Requirement already satisfied: oauthlib>=3.0.0 in /Users/lorcan/.pyenv/versions/3.8.12/envs/lewagon/lib/python3.8/site-packages (from requests-oauthlib>=0.7.0->google-auth-oauthlib->gcsfs->OcuPath==1.0) (3.1.1)\n",
      "Installing collected packages: OcuPath\n",
      "  Attempting uninstall: OcuPath\n",
      "    Found existing installation: OcuPath 1.0\n",
      "    Uninstalling OcuPath-1.0:\n",
      "      Successfully uninstalled OcuPath-1.0\n",
      "  Running setup.py develop for OcuPath\n",
      "Successfully installed OcuPath-1.0\n",
      "CPU times: user 38.1 ms, sys: 21.3 ms, total: 59.4 ms\n",
      "Wall time: 5.17 s\n"
     ]
    }
   ],
   "source": [
    "%%time\n",
    "!pip install -e ../."
   ]
  },
  {
   "cell_type": "code",
   "execution_count": 20,
   "id": "2ef82728",
   "metadata": {},
   "outputs": [
    {
     "name": "stdout",
     "output_type": "stream",
     "text": [
      "CPU times: user 6 µs, sys: 5 µs, total: 11 µs\n",
      "Wall time: 12.9 µs\n"
     ]
    }
   ],
   "source": [
    "%%time\n",
    "from OcuPath.trainer import Trainer"
   ]
  },
  {
   "cell_type": "code",
   "execution_count": 21,
   "id": "688fa04d",
   "metadata": {
    "scrolled": false
   },
   "outputs": [
    {
     "name": "stdout",
     "output_type": "stream",
     "text": [
      "Found 5114 validated image filenames.\n",
      "Found 1278 validated image filenames.\n",
      "CPU times: user 325 ms, sys: 35.3 ms, total: 360 ms\n",
      "Wall time: 371 ms\n"
     ]
    }
   ],
   "source": [
    "%%time\n",
    "trainer = Trainer()"
   ]
  },
  {
   "cell_type": "code",
   "execution_count": 22,
   "id": "a5dcee04",
   "metadata": {},
   "outputs": [
    {
     "name": "stdout",
     "output_type": "stream",
     "text": [
      "Epoch 1/10\n",
      " 38/319 [==>...........................] - ETA: 1:44 - loss: 0.8193 - accuracy: 0.2697 - recall_2: 0.2255 - precision_2: 0.1843"
     ]
    },
    {
     "ename": "KeyboardInterrupt",
     "evalue": "",
     "output_type": "error",
     "traceback": [
      "\u001b[0;31m---------------------------------------------------------------------------\u001b[0m",
      "\u001b[0;31mKeyboardInterrupt\u001b[0m                         Traceback (most recent call last)",
      "\u001b[0;32m/var/folders/yd/ggdh486d1h7gs4s6s28y2hvc0000gn/T/ipykernel_64085/3609282671.py\u001b[0m in \u001b[0;36m<module>\u001b[0;34m\u001b[0m\n\u001b[0;32m----> 1\u001b[0;31m \u001b[0mtrainer\u001b[0m\u001b[0;34m.\u001b[0m\u001b[0mrun\u001b[0m\u001b[0;34m(\u001b[0m\u001b[0;34m)\u001b[0m\u001b[0;34m\u001b[0m\u001b[0;34m\u001b[0m\u001b[0m\n\u001b[0m",
      "\u001b[0;32m~/code/lorcanob/OcuPath/OcuPath/trainer.py\u001b[0m in \u001b[0;36mrun\u001b[0;34m(self, train, val, epochs, callbacks)\u001b[0m\n\u001b[1;32m     56\u001b[0m         \u001b[0mcnn_model\u001b[0m \u001b[0;34m=\u001b[0m \u001b[0mCNN_Model\u001b[0m\u001b[0;34m(\u001b[0m\u001b[0;34m)\u001b[0m\u001b[0;34m\u001b[0m\u001b[0;34m\u001b[0m\u001b[0m\n\u001b[1;32m     57\u001b[0m         \u001b[0mself\u001b[0m\u001b[0;34m.\u001b[0m\u001b[0mpipeline\u001b[0m \u001b[0;34m=\u001b[0m \u001b[0mcnn_model\u001b[0m\u001b[0;34m.\u001b[0m\u001b[0mbuild_model\u001b[0m\u001b[0;34m(\u001b[0m\u001b[0;34m)\u001b[0m\u001b[0;34m\u001b[0m\u001b[0;34m\u001b[0m\u001b[0m\n\u001b[0;32m---> 58\u001b[0;31m         self.pipeline.fit(train,\n\u001b[0m\u001b[1;32m     59\u001b[0m                             \u001b[0msteps_per_epoch\u001b[0m\u001b[0;34m=\u001b[0m\u001b[0mSTEP_SIZE_TRAIN\u001b[0m\u001b[0;34m,\u001b[0m\u001b[0;34m\u001b[0m\u001b[0;34m\u001b[0m\u001b[0m\n\u001b[1;32m     60\u001b[0m                             \u001b[0mvalidation_data\u001b[0m\u001b[0;34m=\u001b[0m\u001b[0mval\u001b[0m\u001b[0;34m,\u001b[0m\u001b[0;34m\u001b[0m\u001b[0;34m\u001b[0m\u001b[0m\n",
      "\u001b[0;32m~/.pyenv/versions/3.8.12/envs/lewagon/lib/python3.8/site-packages/tensorflow/python/keras/engine/training.py\u001b[0m in \u001b[0;36mfit\u001b[0;34m(self, x, y, batch_size, epochs, verbose, callbacks, validation_split, validation_data, shuffle, class_weight, sample_weight, initial_epoch, steps_per_epoch, validation_steps, validation_batch_size, validation_freq, max_queue_size, workers, use_multiprocessing)\u001b[0m\n\u001b[1;32m   1181\u001b[0m                 _r=1):\n\u001b[1;32m   1182\u001b[0m               \u001b[0mcallbacks\u001b[0m\u001b[0;34m.\u001b[0m\u001b[0mon_train_batch_begin\u001b[0m\u001b[0;34m(\u001b[0m\u001b[0mstep\u001b[0m\u001b[0;34m)\u001b[0m\u001b[0;34m\u001b[0m\u001b[0;34m\u001b[0m\u001b[0m\n\u001b[0;32m-> 1183\u001b[0;31m               \u001b[0mtmp_logs\u001b[0m \u001b[0;34m=\u001b[0m \u001b[0mself\u001b[0m\u001b[0;34m.\u001b[0m\u001b[0mtrain_function\u001b[0m\u001b[0;34m(\u001b[0m\u001b[0miterator\u001b[0m\u001b[0;34m)\u001b[0m\u001b[0;34m\u001b[0m\u001b[0;34m\u001b[0m\u001b[0m\n\u001b[0m\u001b[1;32m   1184\u001b[0m               \u001b[0;32mif\u001b[0m \u001b[0mdata_handler\u001b[0m\u001b[0;34m.\u001b[0m\u001b[0mshould_sync\u001b[0m\u001b[0;34m:\u001b[0m\u001b[0;34m\u001b[0m\u001b[0;34m\u001b[0m\u001b[0m\n\u001b[1;32m   1185\u001b[0m                 \u001b[0mcontext\u001b[0m\u001b[0;34m.\u001b[0m\u001b[0masync_wait\u001b[0m\u001b[0;34m(\u001b[0m\u001b[0;34m)\u001b[0m\u001b[0;34m\u001b[0m\u001b[0;34m\u001b[0m\u001b[0m\n",
      "\u001b[0;32m~/.pyenv/versions/3.8.12/envs/lewagon/lib/python3.8/site-packages/tensorflow/python/eager/def_function.py\u001b[0m in \u001b[0;36m__call__\u001b[0;34m(self, *args, **kwds)\u001b[0m\n\u001b[1;32m    887\u001b[0m \u001b[0;34m\u001b[0m\u001b[0m\n\u001b[1;32m    888\u001b[0m       \u001b[0;32mwith\u001b[0m \u001b[0mOptionalXlaContext\u001b[0m\u001b[0;34m(\u001b[0m\u001b[0mself\u001b[0m\u001b[0;34m.\u001b[0m\u001b[0m_jit_compile\u001b[0m\u001b[0;34m)\u001b[0m\u001b[0;34m:\u001b[0m\u001b[0;34m\u001b[0m\u001b[0;34m\u001b[0m\u001b[0m\n\u001b[0;32m--> 889\u001b[0;31m         \u001b[0mresult\u001b[0m \u001b[0;34m=\u001b[0m \u001b[0mself\u001b[0m\u001b[0;34m.\u001b[0m\u001b[0m_call\u001b[0m\u001b[0;34m(\u001b[0m\u001b[0;34m*\u001b[0m\u001b[0margs\u001b[0m\u001b[0;34m,\u001b[0m \u001b[0;34m**\u001b[0m\u001b[0mkwds\u001b[0m\u001b[0;34m)\u001b[0m\u001b[0;34m\u001b[0m\u001b[0;34m\u001b[0m\u001b[0m\n\u001b[0m\u001b[1;32m    890\u001b[0m \u001b[0;34m\u001b[0m\u001b[0m\n\u001b[1;32m    891\u001b[0m       \u001b[0mnew_tracing_count\u001b[0m \u001b[0;34m=\u001b[0m \u001b[0mself\u001b[0m\u001b[0;34m.\u001b[0m\u001b[0mexperimental_get_tracing_count\u001b[0m\u001b[0;34m(\u001b[0m\u001b[0;34m)\u001b[0m\u001b[0;34m\u001b[0m\u001b[0;34m\u001b[0m\u001b[0m\n",
      "\u001b[0;32m~/.pyenv/versions/3.8.12/envs/lewagon/lib/python3.8/site-packages/tensorflow/python/eager/def_function.py\u001b[0m in \u001b[0;36m_call\u001b[0;34m(self, *args, **kwds)\u001b[0m\n\u001b[1;32m    915\u001b[0m       \u001b[0;31m# In this case we have created variables on the first call, so we run the\u001b[0m\u001b[0;34m\u001b[0m\u001b[0;34m\u001b[0m\u001b[0;34m\u001b[0m\u001b[0m\n\u001b[1;32m    916\u001b[0m       \u001b[0;31m# defunned version which is guaranteed to never create variables.\u001b[0m\u001b[0;34m\u001b[0m\u001b[0;34m\u001b[0m\u001b[0;34m\u001b[0m\u001b[0m\n\u001b[0;32m--> 917\u001b[0;31m       \u001b[0;32mreturn\u001b[0m \u001b[0mself\u001b[0m\u001b[0;34m.\u001b[0m\u001b[0m_stateless_fn\u001b[0m\u001b[0;34m(\u001b[0m\u001b[0;34m*\u001b[0m\u001b[0margs\u001b[0m\u001b[0;34m,\u001b[0m \u001b[0;34m**\u001b[0m\u001b[0mkwds\u001b[0m\u001b[0;34m)\u001b[0m  \u001b[0;31m# pylint: disable=not-callable\u001b[0m\u001b[0;34m\u001b[0m\u001b[0;34m\u001b[0m\u001b[0m\n\u001b[0m\u001b[1;32m    918\u001b[0m     \u001b[0;32melif\u001b[0m \u001b[0mself\u001b[0m\u001b[0;34m.\u001b[0m\u001b[0m_stateful_fn\u001b[0m \u001b[0;32mis\u001b[0m \u001b[0;32mnot\u001b[0m \u001b[0;32mNone\u001b[0m\u001b[0;34m:\u001b[0m\u001b[0;34m\u001b[0m\u001b[0;34m\u001b[0m\u001b[0m\n\u001b[1;32m    919\u001b[0m       \u001b[0;31m# Release the lock early so that multiple threads can perform the call\u001b[0m\u001b[0;34m\u001b[0m\u001b[0;34m\u001b[0m\u001b[0;34m\u001b[0m\u001b[0m\n",
      "\u001b[0;32m~/.pyenv/versions/3.8.12/envs/lewagon/lib/python3.8/site-packages/tensorflow/python/eager/function.py\u001b[0m in \u001b[0;36m__call__\u001b[0;34m(self, *args, **kwargs)\u001b[0m\n\u001b[1;32m   3021\u001b[0m       (graph_function,\n\u001b[1;32m   3022\u001b[0m        filtered_flat_args) = self._maybe_define_function(args, kwargs)\n\u001b[0;32m-> 3023\u001b[0;31m     return graph_function._call_flat(\n\u001b[0m\u001b[1;32m   3024\u001b[0m         filtered_flat_args, captured_inputs=graph_function.captured_inputs)  # pylint: disable=protected-access\n\u001b[1;32m   3025\u001b[0m \u001b[0;34m\u001b[0m\u001b[0m\n",
      "\u001b[0;32m~/.pyenv/versions/3.8.12/envs/lewagon/lib/python3.8/site-packages/tensorflow/python/eager/function.py\u001b[0m in \u001b[0;36m_call_flat\u001b[0;34m(self, args, captured_inputs, cancellation_manager)\u001b[0m\n\u001b[1;32m   1958\u001b[0m         and executing_eagerly):\n\u001b[1;32m   1959\u001b[0m       \u001b[0;31m# No tape is watching; skip to running the function.\u001b[0m\u001b[0;34m\u001b[0m\u001b[0;34m\u001b[0m\u001b[0;34m\u001b[0m\u001b[0m\n\u001b[0;32m-> 1960\u001b[0;31m       return self._build_call_outputs(self._inference_function.call(\n\u001b[0m\u001b[1;32m   1961\u001b[0m           ctx, args, cancellation_manager=cancellation_manager))\n\u001b[1;32m   1962\u001b[0m     forward_backward = self._select_forward_and_backward_functions(\n",
      "\u001b[0;32m~/.pyenv/versions/3.8.12/envs/lewagon/lib/python3.8/site-packages/tensorflow/python/eager/function.py\u001b[0m in \u001b[0;36mcall\u001b[0;34m(self, ctx, args, cancellation_manager)\u001b[0m\n\u001b[1;32m    589\u001b[0m       \u001b[0;32mwith\u001b[0m \u001b[0m_InterpolateFunctionError\u001b[0m\u001b[0;34m(\u001b[0m\u001b[0mself\u001b[0m\u001b[0;34m)\u001b[0m\u001b[0;34m:\u001b[0m\u001b[0;34m\u001b[0m\u001b[0;34m\u001b[0m\u001b[0m\n\u001b[1;32m    590\u001b[0m         \u001b[0;32mif\u001b[0m \u001b[0mcancellation_manager\u001b[0m \u001b[0;32mis\u001b[0m \u001b[0;32mNone\u001b[0m\u001b[0;34m:\u001b[0m\u001b[0;34m\u001b[0m\u001b[0;34m\u001b[0m\u001b[0m\n\u001b[0;32m--> 591\u001b[0;31m           outputs = execute.execute(\n\u001b[0m\u001b[1;32m    592\u001b[0m               \u001b[0mstr\u001b[0m\u001b[0;34m(\u001b[0m\u001b[0mself\u001b[0m\u001b[0;34m.\u001b[0m\u001b[0msignature\u001b[0m\u001b[0;34m.\u001b[0m\u001b[0mname\u001b[0m\u001b[0;34m)\u001b[0m\u001b[0;34m,\u001b[0m\u001b[0;34m\u001b[0m\u001b[0;34m\u001b[0m\u001b[0m\n\u001b[1;32m    593\u001b[0m               \u001b[0mnum_outputs\u001b[0m\u001b[0;34m=\u001b[0m\u001b[0mself\u001b[0m\u001b[0;34m.\u001b[0m\u001b[0m_num_outputs\u001b[0m\u001b[0;34m,\u001b[0m\u001b[0;34m\u001b[0m\u001b[0;34m\u001b[0m\u001b[0m\n",
      "\u001b[0;32m~/.pyenv/versions/3.8.12/envs/lewagon/lib/python3.8/site-packages/tensorflow/python/eager/execute.py\u001b[0m in \u001b[0;36mquick_execute\u001b[0;34m(op_name, num_outputs, inputs, attrs, ctx, name)\u001b[0m\n\u001b[1;32m     57\u001b[0m   \u001b[0;32mtry\u001b[0m\u001b[0;34m:\u001b[0m\u001b[0;34m\u001b[0m\u001b[0;34m\u001b[0m\u001b[0m\n\u001b[1;32m     58\u001b[0m     \u001b[0mctx\u001b[0m\u001b[0;34m.\u001b[0m\u001b[0mensure_initialized\u001b[0m\u001b[0;34m(\u001b[0m\u001b[0;34m)\u001b[0m\u001b[0;34m\u001b[0m\u001b[0;34m\u001b[0m\u001b[0m\n\u001b[0;32m---> 59\u001b[0;31m     tensors = pywrap_tfe.TFE_Py_Execute(ctx._handle, device_name, op_name,\n\u001b[0m\u001b[1;32m     60\u001b[0m                                         inputs, attrs, num_outputs)\n\u001b[1;32m     61\u001b[0m   \u001b[0;32mexcept\u001b[0m \u001b[0mcore\u001b[0m\u001b[0;34m.\u001b[0m\u001b[0m_NotOkStatusException\u001b[0m \u001b[0;32mas\u001b[0m \u001b[0me\u001b[0m\u001b[0;34m:\u001b[0m\u001b[0;34m\u001b[0m\u001b[0;34m\u001b[0m\u001b[0m\n",
      "\u001b[0;31mKeyboardInterrupt\u001b[0m: "
     ]
    }
   ],
   "source": [
    "trainer.run()"
   ]
  },
  {
   "cell_type": "code",
   "execution_count": 12,
   "id": "ab7c515d",
   "metadata": {},
   "outputs": [
    {
     "name": "stdout",
     "output_type": "stream",
     "text": [
      "40/40 [==============================] - 5s 131ms/step - loss: 0.3300 - accuracy: 0.4124 - recall: 0.0000e+00 - precision: 0.0000e+00\n"
     ]
    },
    {
     "data": {
      "text/plain": [
       "[0.3299533724784851, 0.41236308217048645, 0.0, 0.0]"
      ]
     },
     "execution_count": 12,
     "metadata": {},
     "output_type": "execute_result"
    }
   ],
   "source": [
    "trainer.val.reset()\n",
    "trainer.pipeline.evaluate(trainer.val)"
   ]
  },
  {
   "cell_type": "code",
   "execution_count": 7,
   "id": "9e29ef0e",
   "metadata": {},
   "outputs": [],
   "source": [
    "def confusion_mat(self, y_true, y_pred, columns=['Predicted 0', 'Predicted 1'], indices=['Actual 0', 'Actual 1']):\n",
    "        '''\n",
    "        Outputs a confusion matrix of Actual and Predicted positives and negatives\n",
    "        '''\n",
    "        matrix = confusion_matrix(y_true, y_pred)\n",
    "        return pd.DataFrame(matrix, columns=columns, index=indices)"
   ]
  }
 ],
 "metadata": {
  "kernelspec": {
   "display_name": "Python 3 (ipykernel)",
   "language": "python",
   "name": "python3"
  },
  "language_info": {
   "codemirror_mode": {
    "name": "ipython",
    "version": 3
   },
   "file_extension": ".py",
   "mimetype": "text/x-python",
   "name": "python",
   "nbconvert_exporter": "python",
   "pygments_lexer": "ipython3",
   "version": "3.8.12"
  },
  "toc": {
   "base_numbering": 1,
   "nav_menu": {},
   "number_sections": true,
   "sideBar": true,
   "skip_h1_title": false,
   "title_cell": "Table of Contents",
   "title_sidebar": "Contents",
   "toc_cell": false,
   "toc_position": {},
   "toc_section_display": true,
   "toc_window_display": true
  }
 },
 "nbformat": 4,
 "nbformat_minor": 5
}
